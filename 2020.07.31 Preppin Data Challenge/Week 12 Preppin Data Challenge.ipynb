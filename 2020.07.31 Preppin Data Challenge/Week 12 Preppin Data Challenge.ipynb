{
 "cells": [
  {
   "cell_type": "markdown",
   "metadata": {},
   "source": [
    "# Week 12 Preppin Data Challenge\n",
    "## Chin & Beard Suds Co\n",
    "**Background**\n",
    "Would you believe that Chin & Beard Suds Co have encountered yet more messy data? It seems someone was trying to be helpful by creating an aggregated view of sales per week for each scent of soap. However, in doing so we've lost the lower level of detail of the product sizes that make up these sales for each scent. We really need this for other analysis we've been carrying out!\n",
    "\n",
    "Fortunately, we know what percentage of sales each product size makes up for each product in each week. Unfortunately, the data isn't stored in a way that will make it easy to join all the necessary information together.\n",
    "\n",
    "**Requirements**\n",
    "* Input data\n",
    "* Our final output requires the Date to be in in the Year Week Number format. \n",
    "* We don't care about any product sizes that make up 0% of sales.\n",
    "* In the Lookup Table, it seems the Product ID and Size have been erroneously concatenated. These need to be separated.  \n",
    "* You'll need to do some cleaning of the Scent fields to join together the Total Sales and the Lookup Table.\n",
    "* Calculate the sales per week for each scent and product size.\n",
    "* Output the data\n",
    "\n",
    "**Output**\n",
    "5 Data Fields:\n",
    "* Year Week Number\n",
    "* Scent\n",
    "* Product Type\n",
    "* Size\n",
    "* Sales\n",
    "* 307 rows (308 including headers)"
   ]
  },
  {
   "cell_type": "code",
   "execution_count": 1,
   "metadata": {},
   "outputs": [],
   "source": [
    "# import packages\n",
    "import pandas as pd"
   ]
  },
  {
   "cell_type": "code",
   "execution_count": 8,
   "metadata": {},
   "outputs": [],
   "source": [
    "# load data\n",
    "dfTotSales = pd.read_excel('PD week 12 input.xlsx', sheet_name = 'Total Sales')\n",
    "dfPctSales = pd.read_excel('PD week 12 input.xlsx', sheet_name = 'Percentage of Sales')\n",
    "dfLookup = pd.read_excel('PD week 12 input.xlsx', sheet_name = 'Lookup Table')"
   ]
  },
  {
   "cell_type": "code",
   "execution_count": null,
   "metadata": {},
   "outputs": [],
   "source": []
  }
 ],
 "metadata": {
  "kernelspec": {
   "display_name": "Python 3",
   "language": "python",
   "name": "python3"
  },
  "language_info": {
   "codemirror_mode": {
    "name": "ipython",
    "version": 3
   },
   "file_extension": ".py",
   "mimetype": "text/x-python",
   "name": "python",
   "nbconvert_exporter": "python",
   "pygments_lexer": "ipython3",
   "version": "3.7.0"
  }
 },
 "nbformat": 4,
 "nbformat_minor": 2
}
